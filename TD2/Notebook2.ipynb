{
 "cells": [
  {
   "cell_type": "code",
   "execution_count": 1,
   "metadata": {},
   "outputs": [],
   "source": [
    "import os\n",
    "import nltk\n",
    "from nltk.corpus import stopwords\n",
    "from nltk.tokenize import word_tokenize\n",
    "from nltk.stem import WordNetLemmatizer\n",
    "from sklearn.feature_extraction.text import TfidfVectorizer\n",
    "from sklearn.metrics.pairwise import cosine_similarity\n",
    "from collections import Counter\n",
    "import numpy as np\n",
    "import matplotlib.pyplot as plt\n",
    "import seaborn as sns\n"
   ]
  },
  {
   "cell_type": "code",
   "execution_count": 2,
   "metadata": {},
   "outputs": [
    {
     "name": "stderr",
     "output_type": "stream",
     "text": [
      "[nltk_data] Downloading package punkt to /Users/alexs/nltk_data...\n",
      "[nltk_data]   Package punkt is already up-to-date!\n",
      "[nltk_data] Downloading package stopwords to /Users/alexs/nltk_data...\n",
      "[nltk_data]   Package stopwords is already up-to-date!\n",
      "[nltk_data] Downloading package wordnet to /Users/alexs/nltk_data...\n",
      "[nltk_data]   Package wordnet is already up-to-date!\n"
     ]
    },
    {
     "data": {
      "text/plain": [
       "True"
      ]
     },
     "execution_count": 2,
     "metadata": {},
     "output_type": "execute_result"
    }
   ],
   "source": [
    "\n",
    "# Download necessary NLTK data\n",
    "nltk.download('punkt')\n",
    "nltk.download('stopwords')\n",
    "nltk.download('wordnet')\n"
   ]
  },
  {
   "cell_type": "code",
   "execution_count": 3,
   "metadata": {},
   "outputs": [],
   "source": [
    "# Initialize the lemmatizer\n",
    "lemmatizer = WordNetLemmatizer()\n",
    "\n",
    "def preprocess(text):\n",
    "    # Tokenize\n",
    "    words = word_tokenize(text.lower())\n",
    "    # Lemmatize and filter words, removing stopwords\n",
    "    return ([lemmatizer.lemmatize(word) for word in words \n",
    "                     if word.isalnum()])\n"
   ]
  },
  {
   "cell_type": "code",
   "execution_count": 4,
   "metadata": {},
   "outputs": [
    {
     "name": "stdout",
     "output_type": "stream",
     "text": [
      "Number of common high-frequency words: 83\n",
      "Number of documents processed: 2000\n",
      "Average document length after removal: 333.28 words\n",
      "Number of unique words in corpus: 34149\n"
     ]
    }
   ],
   "source": [
    "# Assuming the txt_sentoken files are in a directory named 'txt_sentoken' with 'pos' and 'neg' subdirectories\n",
    "sentoken_dir = 'txt_sentoken'\n",
    "pos_documents = []\n",
    "neg_documents = []\n",
    "file_names = []\n",
    "labels = []\n",
    "\n",
    "for sentiment in ['pos', 'neg']:\n",
    "    sentiment_dir = os.path.join(sentoken_dir, sentiment)\n",
    "    for filename in os.listdir(sentiment_dir):\n",
    "        if filename.endswith('.txt'):\n",
    "            with open(os.path.join(sentiment_dir, filename), 'r', encoding='utf-8') as file:\n",
    "                text = file.read()\n",
    "                preprocessed_text = preprocess(text)\n",
    "                if sentiment == 'pos':\n",
    "                    pos_documents.append(preprocessed_text)\n",
    "                else:\n",
    "                    neg_documents.append(preprocessed_text)\n",
    "                file_names.append(f\"{sentiment}_{filename}\")\n",
    "                labels.append(sentiment)\n",
    "\n",
    "# Calculate word frequencies for positive and negative reviews\n",
    "pos_words = Counter([word for doc in pos_documents for word in doc])\n",
    "neg_words = Counter([word for doc in neg_documents for word in doc])\n",
    "\n",
    "# Define thresholds for high frequency\n",
    "pos_threshold = len(pos_documents) * 0.8\n",
    "neg_threshold = len(neg_documents) * 0.8\n",
    "# Find common high-frequency words\n",
    "common_high_freq_words = set(word for word in pos_words.keys() & neg_words.keys()\n",
    "                             if pos_words[word] > pos_threshold and neg_words[word] > neg_threshold)\n",
    "\n",
    "print(f\"Number of common high-frequency words: {len(common_high_freq_words)}\")\n",
    "\n",
    "# Remove common high-frequency words from documents\n",
    "pos_documents = [[word for word in doc if word not in common_high_freq_words] for doc in pos_documents]\n",
    "neg_documents = [[word for word in doc if word not in common_high_freq_words] for doc in neg_documents]\n",
    "\n",
    "# Combine documents\n",
    "documents = [' '.join(doc) for doc in pos_documents + neg_documents]\n",
    "\n",
    "print(f\"Number of documents processed: {len(documents)}\")\n",
    "\n",
    "# Print some statistics\n",
    "print(f\"Average document length after removal: {sum(len(doc.split()) for doc in documents) / len(documents):.2f} words\")\n",
    "print(f\"Number of unique words in corpus: {len(set(word for doc in documents for word in doc.split()))}\")\n"
   ]
  },
  {
   "cell_type": "code",
   "execution_count": 5,
   "metadata": {},
   "outputs": [
    {
     "name": "stdout",
     "output_type": "stream",
     "text": [
      "Top 5 most similar document pairs:\n",
      "1. neg_cv302_26481.txt and neg_cv274_26379.txt: 1.0000\n",
      "2. neg_cv656_25395.txt and neg_cv412_25254.txt: 1.0000\n",
      "3. pos_cv759_13522.txt and pos_cv174_9659.txt: 1.0000\n",
      "4. pos_cv274_25253.txt and pos_cv115_25396.txt: 0.9996\n",
      "5. pos_cv383_13116.txt and pos_cv986_13527.txt: 0.9995\n"
     ]
    }
   ],
   "source": [
    "# Create TF-IDF vectorizer\n",
    "vectorizer = TfidfVectorizer(max_features=5000, min_df=2, max_df=0.85)\n",
    "\n",
    "# Fit and transform the documents\n",
    "tfidf_matrix = vectorizer.fit_transform(documents)\n",
    "\n",
    "# Calculate cosine similarity\n",
    "cosine_similarities = cosine_similarity(tfidf_matrix, tfidf_matrix)\n",
    "\n",
    "# Set diagonal to 0 to exclude self-similarity\n",
    "np.fill_diagonal(cosine_similarities, 0)\n",
    "\n",
    "# Get the top 5 most similar pairs\n",
    "num_top_pairs = 5\n",
    "top_pairs = []\n",
    "\n",
    "for i in range(len(documents)):\n",
    "    for j in range(i + 1, len(documents)):\n",
    "        similarity = cosine_similarities[i, j]\n",
    "        top_pairs.append((file_names[i], file_names[j], similarity))\n",
    "\n",
    "top_pairs.sort(key=lambda x: x[2], reverse=True)\n",
    "\n",
    "print(\"Top 5 most similar document pairs:\")\n",
    "for i, (doc1, doc2, similarity) in enumerate(top_pairs[:num_top_pairs], 1):\n",
    "    print(f\"{i}. {doc1} and {doc2}: {similarity:.4f}\")\n"
   ]
  },
  {
   "cell_type": "code",
   "execution_count": 6,
   "metadata": {},
   "outputs": [
    {
     "name": "stdout",
     "output_type": "stream",
     "text": [
      "Mean similarity for positive reviews: 0.0486\n",
      "Mean similarity for negative reviews: 0.0499\n",
      "Mean similarity between positive and negative reviews: 0.0242\n"
     ]
    },
    {
     "data": {
      "image/png": "[encoded data removed]",
      "text/plain": [
       "<Figure size 800x600 with 2 Axes>"
      ]
     },
     "metadata": {},
     "output_type": "display_data"
    }
   ],
   "source": [
    "# ... existing code ...\n",
    "\n",
    "# Calculate cosine similarities for each category\n",
    "tr_pos_docs = [' '.join(doc) for doc in pos_documents]\n",
    "tr_neg_docs = [' '.join(doc) for doc in neg_documents]\n",
    "\n",
    "tfidf_matrix_pos = vectorizer.fit_transform(tr_pos_docs)\n",
    "tfidf_matrix_neg = vectorizer.fit_transform(tr_neg_docs)\n",
    "\n",
    "pos_similarities = cosine_similarity(tfidf_matrix_pos, tfidf_matrix_pos)\n",
    "neg_similarities = cosine_similarity(tfidf_matrix_neg, tfidf_matrix_neg)\n",
    "pos_neg_similarities = cosine_similarity(tfidf_matrix_pos, tfidf_matrix_neg)\n",
    "\n",
    "np.fill_diagonal(pos_similarities, 0)\n",
    "np.fill_diagonal(neg_similarities, 0)\n",
    "np.fill_diagonal(pos_neg_similarities, 0)\n",
    "\n",
    "# Remove self-similarities (diagonal)\n",
    "np.fill_diagonal(pos_similarities, np.nan)\n",
    "np.fill_diagonal(neg_similarities, np.nan)\n",
    "\n",
    "# Calculate mean similarities\n",
    "mean_pos_similarity = np.nanmean(pos_similarities)\n",
    "mean_neg_similarity = np.nanmean(neg_similarities)\n",
    "mean_pos_neg_similarity = np.nanmean(pos_neg_similarities)\n",
    "\n",
    "print(f\"Mean similarity for positive reviews: {mean_pos_similarity:.4f}\")\n",
    "print(f\"Mean similarity for negative reviews: {mean_neg_similarity:.4f}\")\n",
    "print(f\"Mean similarity between positive and negative reviews: {mean_pos_neg_similarity:.4f}\")\n",
    "\n",
    "# Create a 2x2 confusion matrix for the heatmap\n",
    "confusion_matrix = np.array([[mean_pos_similarity, mean_pos_neg_similarity],\n",
    "                             [mean_pos_neg_similarity, mean_neg_similarity]])\n",
    "\n",
    "# Visualize the confusion matrix using a heatmap\n",
    "plt.figure(figsize=(8, 6))\n",
    "sns.heatmap(confusion_matrix, annot=True, cmap='YlOrRd', \n",
    "            xticklabels=['Positive', 'Negative'], \n",
    "            yticklabels=['Positive', 'Negative'],\n",
    "            fmt='.4f')\n",
    "plt.title('Confusion Matrix of Mean Document Similarities')\n",
    "plt.tight_layout()\n",
    "plt.show()\n",
    "\n"
   ]
  },
  {
   "cell_type": "code",
   "execution_count": null,
   "metadata": {},
   "outputs": [],
   "source": []
  }
 ],
 "metadata": {
  "kernelspec": {
   "display_name": ".venv",
   "language": "python",
   "name": "python3"
  },
  "language_info": {
   "codemirror_mode": {
    "name": "ipython",
    "version": 3
   },
   "file_extension": ".py",
   "mimetype": "text/x-python",
   "name": "python",
   "nbconvert_exporter": "python",
   "pygments_lexer": "ipython3",
   "version": "3.11.10"
  }
 },
 "nbformat": 4,
 "nbformat_minor": 2
}
